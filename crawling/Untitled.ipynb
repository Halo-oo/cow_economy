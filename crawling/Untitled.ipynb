{
 "cells": [
  {
   "cell_type": "code",
   "execution_count": null,
   "id": "4d19a3c5",
   "metadata": {},
   "outputs": [],
   "source": [
    "from pyspark.context import SparkContext\n",
    "from pyspark.sql.session import SparkSession\n",
    "import pandas as pd\n",
    "from pandas import DataFrame, Series\n",
    "\n",
    "sc = SparkContext.getOrCreate()\n",
    "spark = SparkSession(sc)\n",
    "# 오늘 크롤링한 데이터\n",
    "nowDay = spark.read.option(\"multiLine\",True).option(\"header\", True).option(\"sep\", \",\").csv(\"hdfs://cluster.p.ssafy.io:9000/user/j8a509/news/daily-news/\"+\"20230322\"+\".csv\")\n",
    "\n",
    "print(\"#### 데이터 가져오기 완료 ####\")\n",
    "print(f\"방금 크롤링한 데이터 {nowDay.count()}개\")\n",
    "# print(nowDay.toPandas()[['article_content']])\n",
    "articles = nowDay.toPandas()[['article_content']].values.tolist()\n",
    "print(articles)\n"
   ]
  }
 ],
 "metadata": {
  "kernelspec": {
   "display_name": "Python 3 (ipykernel)",
   "language": "python",
   "name": "python3"
  },
  "language_info": {
   "codemirror_mode": {
    "name": "ipython",
    "version": 3
   },
   "file_extension": ".py",
   "mimetype": "text/x-python",
   "name": "python",
   "nbconvert_exporter": "python",
   "pygments_lexer": "ipython3",
   "version": "3.10.10"
  }
 },
 "nbformat": 4,
 "nbformat_minor": 5
}
