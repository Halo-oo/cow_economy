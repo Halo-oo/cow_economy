{
 "cells": [
  {
   "cell_type": "code",
   "execution_count": null,
   "id": "70daaabb",
   "metadata": {},
   "outputs": [],
   "source": [
    "from urllib.request import urlopen\n",
    "from bs4 import BeautifulSoup, NavigableString, Tag\n",
    "import datetime as dt\n",
    "from pytz import timezone\n",
    "\n",
    "import pymysql\n",
    "import pandas as pd\n",
    "from pandas import DataFrame, Series\n",
    "from sqlalchemy import create_engine, text\n",
    "pymysql.install_as_MySQLdb()\n",
    "import MySQLdb\n",
    "from tqdm import tqdm\n",
    "import pickle\n",
    "import time\n",
    "\n",
    "from pyspark.context import SparkContext\n",
    "from pyspark.sql.session import SparkSession\n",
    "\n",
    "import os\n",
    "\n",
    "sc = SparkContext.getOrCreate()\n",
    "spark = SparkSession(sc)\n",
    "hdfs1 = \"hdfs://cluster.p.ssafy.io:9000\" # 서버\n",
    "#     hdfs2 = \"/user/hadoop/test\" # 로컬\n",
    "hdfs2 = \"/user/j8a509/news/daily-news/\" # 서버\n",
    "hdfs_directory_path = hdfs1 + hdfs2 # hdfs 폴더 저장 경로\n",
    "file_date = dt.datetime.today().astimezone(timezone('Asia/Seoul')).strftime(\"%Y%m%d\") # 오늘 날짜 ex) 20230320\n",
    "\n",
    "today_path = hdfs_directory_path+file_date+'.csv' # 오늘 날짜 csv 파일 경로\n",
    "toady_csv = spark.read.option(\"multiLine\",True).option(\"header\", True).option(\"sep\", \",\").csv(today_path)\n",
    "# 판다스데이터프레임 = 오늘 날짜 csv + 지금 크롤링한 뉴스\n",
    "today_pd = toady_csv.toPandas() # 오늘 csv\n",
    "print(len(today_pd))"
   ]
  },
  {
   "cell_type": "code",
   "execution_count": null,
   "id": "8cc10e55",
   "metadata": {},
   "outputs": [],
   "source": []
  }
 ],
 "metadata": {
  "kernelspec": {
   "display_name": "Python 3 (ipykernel)",
   "language": "python",
   "name": "python3"
  },
  "language_info": {
   "codemirror_mode": {
    "name": "ipython",
    "version": 3
   },
   "file_extension": ".py",
   "mimetype": "text/x-python",
   "name": "python",
   "nbconvert_exporter": "python",
   "pygments_lexer": "ipython3",
   "version": "3.10.10"
  }
 },
 "nbformat": 4,
 "nbformat_minor": 5
}
